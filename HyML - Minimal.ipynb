{
 "cells": [
  {
   "cell_type": "markdown",
   "metadata": {},
   "source": [
    "# HyML `MiNiMaL`\n",
    "\n",
    "## Minimal markup language generator in Hy\n",
    "\n",
    "[HyML](https://github.com/markomanninen/hyml) (acronym for Hy Markup Language) is a set of macros to generate XML, XHTML, and HTML code in Hy. HyML `MiNiMaL` is derived from the more extensive document and validation oriented \"big brother\" HyML. HyML `MiNiMaL` is meant to be used as a minimal codebase to generate XML (Extensible Markup Language) with next features:\n",
    "\n",
    "1. closely resembling syntax with XML\n",
    "2. ability to mix Hy / Python program code within markup\n",
    "3. processing lists and external templates\n",
    "4. using custom variables and functions\n",
    "\n",
    "You can use HyML `MiNiMaL` for:\n",
    "\n",
    "- static XML / XHTML / HTML content and file generation\n",
    "- render html code for the Jupyter Notebook for example\n",
    "- attach it to a server for dynamic html output generation\n",
    "- practice and study [DSL](https://en.wikipedia.org/wiki/Domain-specific_language) and macro (Lisp) programming\n",
    "- challenge your imagination\n",
    "\n",
    "To compare with HyML XML / HTML macros, `MiNiMaL` means that there is no tag name validation and no tag and attribute minimize techniques utilized. If you need them, you should see [full HyML documentation](http://hyml.readthedocs.io/en/latest/#)."
   ]
  },
  {
   "cell_type": "markdown",
   "metadata": {},
   "source": [
    "## Ready, steady, go!\n",
    "\n",
    "Project is hosted at: https://github.com/markomanninen/hyml\n",
    "\n",
    "### Install\n",
    "\n",
    "For easy install, use [pip](https://pip.pypa.io/en/stable/installing/) Python repository installer:\n",
    "\n",
    "```Shell\n",
    "$ pip install hyml\n",
    "```\n",
    "\n",
    "This will install only the necessary source files for HyML, no example templates or Jupyter Notebook files that are for presentation only.\n",
    "\n",
    "### Import\n",
    "\n",
    "Then import `MiNiMaL` macros:\n",
    "\n",
    "```Clojure\n",
    "(require (hyml.minimal (*)))\n",
    "```\n",
    "\n",
    "### Run\n",
    "\n",
    "And run the simple example:\n",
    "\n",
    "```Clojure\n",
    "(ml (tag :attr \"value\" (sub \"Content\")))\n",
    "```\n",
    "\n",
    "That should output:\n",
    "\n",
    "```XML\n",
    "<tag attr=\"value\"><sub>Content</sub></tag>\n",
    "```\n",
    "\n",
    "### Jupyter Notebook\n",
    "\n",
    "If you want to play with HyML Notebook documents, you should download the whole [HyML repository](https://github.com/markomanninen/hyml/archive/master.zip) (or clone it with `$ git clone https://github.com/markomanninen/hyml.git`) to your computer. It contains all necessary templates to get everything running as presented here."
   ]
  },
  {
   "cell_type": "markdown",
   "metadata": {},
   "source": [
    "## Hy code (all)\n",
    "\n",
    "Because codebase for HyML `MiNiMaL` implementation is roughly 50 lines only, it will be provided here with structural comments for introspection. More detailed comment are available in the [minimal.hy](https://github.com/markomanninen/hyml/blob/master/hyml/minimal.hy) source file."
   ]
  },
  {
   "cell_type": "code",
   "execution_count": 1,
   "metadata": {
    "collapsed": false
   },
   "outputs": [],
   "source": [
    "; eval and compile variables, constants and functions for ml, defvar, deffun, and include macros\n",
    "(eval-and-compile\n",
    "  ; global registry for variables and functions\n",
    "  (setv variables-and-functions {})\n",
    "  ; internal constants\n",
    "  (def **keyword** \"keyword\") (def **unquote** \"unquote\")\n",
    "  (def **splice** \"unquote_splice\") (def **unquote-splice** (, **unquote** **splice**))\n",
    "  (def **quote** \"quote\") (def **quasi** \"quasiquote\")\n",
    "  (def **quasi-quote** (, **quote** **quasi**))\n",
    "  ; detach keywords and content from code expression\n",
    "  (defn get-content-attributes [code]\n",
    "    (setv content [] attributes [] kwd None)\n",
    "    (for [item code]\n",
    "         (do (if (iterable? item)\n",
    "                 (if (= (first item) **unquote**) (setv item (eval (second item) variables-and-functions))\n",
    "                     (in (first item) **quasi-quote**) (setv item (name (eval item)))))\n",
    "             (if-not (keyword? item)\n",
    "               (if (none? kwd)\n",
    "                   (.append content (parse-mnml item))\n",
    "                   (.append attributes (, kwd (parse-mnml item)))))\n",
    "             (if (and (keyword? kwd) (keyword? item))\n",
    "                 (.append attributes (, kwd (name kwd))))\n",
    "             (if (keyword? item) (setv kwd item) (setv kwd None))))\n",
    "    (if (keyword? kwd)\n",
    "        (.append attributes (, kwd (name kwd))))\n",
    "    (, content attributes))\n",
    "  ; recursively parse expression\n",
    "  (defn parse-mnml [code] \n",
    "    (if (coll? code)\n",
    "        (do (setv tag (catch-tag (first code)))\n",
    "            (if (in tag **unquote-splice**)\n",
    "                (if (= tag **unquote**)\n",
    "                    (str (eval (second code) variables-and-functions))\n",
    "                    (.join \"\" (map parse-mnml (eval (second code) variables-and-functions))))\n",
    "                (do (setv (, content attributes) (get-content-attributes (drop 1 code)))\n",
    "                    (+ (tag-start tag attributes (empty? content))\n",
    "                       (if (empty? content) \"\"\n",
    "                           (+ (.join \"\" (map str content)) (+ \"</\" tag \">\")))))))\n",
    "        (if (none? code) \"\" (str code))))\n",
    "  ; detach tag from expression\n",
    "  (defn catch-tag [code]\n",
    "    (if (and (iterable? code) (= (first code) **unquote**))\n",
    "        (eval (second code))\n",
    "        (try (name (eval code))\n",
    "             (except (e Exception) (str code)))))\n",
    "  ; concat attributes\n",
    "  (defn tag-attributes [attr]\n",
    "    (if (empty? attr) \"\"\n",
    "        (+ \" \" (.join \" \" (list-comp\n",
    "          (% \"%s=\\\"%s\\\"\" (, (name kwd) (name value))) [[kwd value] attr])))))\n",
    "  ; create start tag\n",
    "  (defn tag-start [tag-name attr short]\n",
    "    (+ \"<\" tag-name (tag-attributes attr) (if short \"/>\" \">\"))))\n",
    "; global variable registry handler\n",
    "(defmacro defvar [&rest args]\n",
    "  (setv l (len args) i 0)\n",
    "  (while (< i l) (do\n",
    "    (assoc variables-and-functions (get args i) (get args (inc i)))\n",
    "    (setv i (+ 2 i)))))\n",
    "; global function registry handler\n",
    "(defmacro deffun [name func]\n",
    "  (assoc variables-and-functions name (eval func)))\n",
    "; include functionality for template engine\n",
    "(defmacro include [template]\n",
    "  `(do (import [hy.importer [tokenize]])\n",
    "       (with [f (open ~template)]\n",
    "         (tokenize (+ \"~@`(\" (f.read) \")\")))))\n",
    "; main MiNiMaL macro to be used. passes code to parse-mnml\n",
    "(defmacro ml [&rest code]\n",
    "  (.join \"\" (map parse-mnml code)))"
   ]
  },
  {
   "cell_type": "markdown",
   "metadata": {},
   "source": [
    "## Features\n",
    "\n",
    "### Basic syntax\n",
    "\n",
    "`MiNiMaL` macro syntax is simple and mostly follows the rules of Hy code. Syntax of the expression consists of:\n",
    "\n",
    "- parentheses to define hierarchical (nested) structure of the document\n",
    "- all opened parentheses must have closing parentheses pair\n",
    "- the first item of the expression is the tag name\n",
    "- next items in the expression are either:\n",
    "  - attribute-value pairs (:attribute \"value\") \n",
    "  - content wrapped with double quotes (\"content\")\n",
    "  - sub expression\n",
    "  - nothing\n",
    "- between keywords, keyword values, and content there must a whitespace separator\n",
    "- whitespace is not needed when a new expression starts or ends (opening and closing parentheses).\n",
    "\n",
    "There is no limit on nested levels. There is no limit on how many attribute-value pairs you want to use. Also it doesn't matter in what order you define tag content and keywords, althought it might be easier to read for others, if the keywords are introduced first and then the content. However, all keywords are rendered in the same order they have been presented in markup. Also a content and sub nodes are rendered similarly in the given order. Keywords without values will be interpreted as boolean attributes ie. they have the same value than the name of the keyword.\n",
    "\n",
    "Main differences to XML syntax are:\n",
    "\n",
    "- instead of wrapper `<` and `>` parentheses `(` and `)` are used\n",
    "- there is no need to have a separate end tag\n",
    "- given expression does not need to have a single root node\n",
    "- see other possible differences comparing to [wiki/XML](https://en.wikipedia.org/wiki/XML#Well-formedness_and_error-handling)\n",
    "\n",
    "### Special chars\n",
    "\n",
    "In addition to basic syntax there are three other symbols for advanced code generation. They are:\n",
    "\n",
    "- quasiquote (\\`)\n",
    "- unquote (`~`)\n",
    "- unquote splice (`~@`)\n",
    "\n",
    "These all are symbols used in Hy [macro notation](http://docs.hylang.org/en/latest/language/api.html#quasiquote), so they should be self explanatory. But to make everything clear, in the `MiNiMaL` macro they work other way around.\n",
    "\n",
    "Unquote (`~`) and unquote-splice (`~@`) gets you back to the Hy code evaluation mode. And quasiquote (\\`) sets you back to `MiNiMaL` macro mode. This is natural when you think that `MiNiMaL` macro is a quoted code in the first place. So if you want to evaluate Hy code inside it, you need to do it inside unquote.\n",
    "\n",
    "But let us start from the minimal example first.\n",
    "\n",
    "\n",
    "### Simple example\n",
    "\n",
    "So the simple example utilizing above features is:\n",
    "\n",
    "```Lisp\n",
    "(tag :attr \"value\" (sub \"Content\"))\n",
    "```\n",
    "\n",
    "`tag` is the first element of the expression, so it regarded as a tag name. `:attr \"value\"` is the keyword-value (attribute-value) -pair. `(sub` starts a new expression. So there is no other content (or keywords) in the tag. Sub node instead has titlecase content `\"Content\"` given.\n",
    "\n",
    "Output is:\n",
    "\n",
    "```XML\n",
    "<tag attr=\"value\"><sub>Content</sub></tag>\n",
    "```\n",
    "\n",
    "### Process components with unquote syntax (~)\n",
    "\n",
    "Any element can be generated instead of hardcoded to the expression.\n",
    "\n",
    "#### Tag name\n",
    "\n",
    "You can generate a tag name with Hy code by using ~ symbol:"
   ]
  },
  {
   "cell_type": "code",
   "execution_count": 2,
   "metadata": {
    "collapsed": false
   },
   "outputs": [
    {
     "data": {
      "text/plain": [
       "'<tag/>'"
      ]
     },
     "execution_count": 2,
     "metadata": {},
     "output_type": "execute_result"
    }
   ],
   "source": [
    "(ml (~(+ \"t\" \"a\" \"g\")))"
   ]
  },
  {
   "cell_type": "markdown",
   "metadata": {},
   "source": [
    "This is useful if tag names collide with Hy internal symbols and datatypes. For example, the symbol `J` is reserved for complex number type. Instead of writing: `(ml (J))` which produces `<1j/>`, you should use: `(ml (~\"J\"))`."
   ]
  },
  {
   "cell_type": "markdown",
   "metadata": {},
   "source": [
    "#### Attribute name and value\n",
    "\n",
    "You can generate an attribute name or a value with Hy by using ~ symbol. Generated attribute name must be a keyword however:"
   ]
  },
  {
   "cell_type": "code",
   "execution_count": 3,
   "metadata": {
    "collapsed": false
   },
   "outputs": [
    {
     "data": {
      "text/plain": [
       "'<tag attr=\"value\"/>'"
      ]
     },
     "execution_count": 3,
     "metadata": {},
     "output_type": "execute_result"
    }
   ],
   "source": [
    "(ml (tag ~(keyword (.join \"\" ['a 't 't 'r])) \"value\"))"
   ]
  },
  {
   "cell_type": "code",
   "execution_count": 4,
   "metadata": {
    "collapsed": false
   },
   "outputs": [
    {
     "data": {
      "text/plain": [
       "'<tag attr=\"value\"/>'"
      ]
     },
     "execution_count": 4,
     "metadata": {},
     "output_type": "execute_result"
    }
   ],
   "source": [
    "(ml (tag :attr ~(+ \"v\" \"a\" \"l\" \"u\" \"e\")))"
   ]
  },
  {
   "cell_type": "markdown",
   "metadata": {},
   "source": [
    "#### Content\n",
    "\n",
    "You can generate content with Hy by using ~ symbol:"
   ]
  },
  {
   "cell_type": "code",
   "execution_count": 5,
   "metadata": {
    "collapsed": false
   },
   "outputs": [
    {
     "data": {
      "text/plain": [
       "'<tag>CONTENT</tag>'"
      ]
     },
     "execution_count": 5,
     "metadata": {},
     "output_type": "execute_result"
    }
   ],
   "source": [
    "(ml (tag ~(.upper \"content\")))"
   ]
  },
  {
   "cell_type": "markdown",
   "metadata": {},
   "source": [
    "### Using custom variables and functions\n",
    "\n",
    "You can define custom variables and functions for the `MiNiMaL` macro. Variables and functions are stored on the common registry and avialble on the macro expansion. You can access predefined symbols when quoting (~) the expression."
   ]
  },
  {
   "cell_type": "code",
   "execution_count": 6,
   "metadata": {
    "collapsed": false
   },
   "outputs": [
    {
     "data": {
      "text/plain": [
       "'<tag>McDonald, Dennis</tag>'"
      ]
     },
     "execution_count": 6,
     "metadata": {},
     "output_type": "execute_result"
    }
   ],
   "source": [
    "; define variables with defvar macro\n",
    "(defvar firstname \"Dennis\"\n",
    "        lastname \"McDonald\")\n",
    "; define functions with deffun macro\n",
    "(deffun wholename (fn [x y] (+ y \", \" x)))\n",
    "; use variables and functions with unquote / unquote splice\n",
    "(ml (tag ~(wholename firstname lastname)))"
   ]
  },
  {
   "cell_type": "markdown",
   "metadata": {},
   "source": [
    "### Process lists with unquote splice syntax (~@)\n",
    "\n",
    "Unquote-splice is a special symbol to be used with the list and the template processing. It is perhaps the most powerful feature in the MiNiMaL macro.\n",
    "\n",
    "#### Generate list of items\n",
    "\n",
    "You can use list comprehension function to generate a list of xml elements. Hy code, sub expressions, and variables / functions work inside unquote spliced expression. You need to quote a line, if it contains a sub `MiNiMaL` expression."
   ]
  },
  {
   "cell_type": "code",
   "execution_count": 7,
   "metadata": {
    "collapsed": false
   },
   "outputs": [
    {
     "data": {
      "text/plain": [
       "'<tag><sub>0</sub><sub>1</sub><sub>2</sub><sub>3</sub><sub>4</sub></tag>'"
      ]
     },
     "execution_count": 7,
     "metadata": {},
     "output_type": "execute_result"
    }
   ],
   "source": [
    "; generate 5 sub tags and use enumerated numeric value as a content\n",
    "(ml (tag ~@(list-comp `(sub ~(str item)) [item (range 5)])))"
   ]
  },
  {
   "cell_type": "markdown",
   "metadata": {},
   "source": [
    "### Using templates\n",
    "\n",
    "Let us first show the template content existing in the external file:"
   ]
  },
  {
   "cell_type": "code",
   "execution_count": 8,
   "metadata": {
    "collapsed": false
   },
   "outputs": [
    {
     "name": "stdout",
     "output_type": "stream",
     "text": [
      "(note :src \"https://www.w3schools.com/xml/note.xml\"\n",
      "  (to ~to)\n",
      "  (from ~from)\n",
      "  (heading ~heading)\n",
      "  (body ~body))\n"
     ]
    }
   ],
   "source": [
    "(with [f (open \"note.hy\")] (print (f.read)))"
   ]
  },
  {
   "cell_type": "markdown",
   "metadata": {},
   "source": [
    "Then we will define variables and a function to be used inside `MiNiMaL` macro:"
   ]
  },
  {
   "cell_type": "code",
   "execution_count": 9,
   "metadata": {
    "collapsed": false
   },
   "outputs": [],
   "source": [
    "(defvar to \"Tove\"\n",
    "        from \"Jani\"\n",
    "        heading \"Reminder\"\n",
    "        body \"Don't forget me this weekend!\")"
   ]
  },
  {
   "cell_type": "markdown",
   "metadata": {},
   "source": [
    "And finally include and render the template: "
   ]
  },
  {
   "cell_type": "code",
   "execution_count": 10,
   "metadata": {
    "collapsed": false
   },
   "outputs": [
    {
     "name": "stdout",
     "output_type": "stream",
     "text": [
      "<note src=\"https://www.w3schools.com/xml/note.xml\">\n",
      "\t<to>Tove</to>\n",
      "\t<from>Jani</from>\n",
      "\t<heading>Reminder</heading>\n",
      "\t<body>Don't forget me this weekend!</body>\n",
      "</note>\n"
     ]
    }
   ],
   "source": [
    "(import (hyml.helpers (indent)))\n",
    "(print (indent (ml ~@(include \"note.hy\"))))"
   ]
  },
  {
   "cell_type": "markdown",
   "metadata": {},
   "source": [
    "## Special features\n",
    "\n",
    "These are not deliberately implemented features, but a conequence of the HyML `MiNiMaL` implementation and how Hy works.\n",
    "\n",
    "### Nested `MiNiMaL` macros\n",
    "\n",
    "It is possible to call `MiNiMaL` macro again inside unquoted code:"
   ]
  },
  {
   "cell_type": "code",
   "execution_count": 11,
   "metadata": {
    "collapsed": false
   },
   "outputs": [
    {
     "data": {
      "text/plain": [
       "'<tag>Generator inside: <sub>content</sub></tag>'"
      ]
     },
     "execution_count": 11,
     "metadata": {},
     "output_type": "execute_result"
    }
   ],
   "source": [
    "(ml (tag ~(+ \"Generator inside: \" (ml (sub \"content\")))))"
   ]
  },
  {
   "cell_type": "markdown",
   "metadata": {},
   "source": [
    "Tag names, attribute values, and tag content can be also single pre-quoted strings. It doesn't matter because in the final process of evaluating the component the string representation of the symbol is retrieved."
   ]
  },
  {
   "cell_type": "code",
   "execution_count": 12,
   "metadata": {
    "collapsed": false
   },
   "outputs": [
    {
     "data": {
      "text/plain": [
       "['<tag/>', '<tag/>', '<tag/>', '<tag/>']"
      ]
     },
     "execution_count": 12,
     "metadata": {},
     "output_type": "execute_result"
    }
   ],
   "source": [
    "[(ml ('tag)) (ml (`tag)) (ml (tag)) (ml (\"tag\"))]"
   ]
  },
  {
   "cell_type": "markdown",
   "metadata": {},
   "source": [
    "With keywords, however, single pre-queted strings will get parsed as a content."
   ]
  },
  {
   "cell_type": "code",
   "execution_count": 13,
   "metadata": {
    "collapsed": false
   },
   "outputs": [
    {
     "data": {
      "text/plain": [
       "['<tag>attr</tag>', '<tag>attr</tag>']"
      ]
     },
     "execution_count": 13,
     "metadata": {},
     "output_type": "execute_result"
    }
   ],
   "source": [
    "[(ml (tag ':attr)) (ml (tag `:attr))]"
   ]
  },
  {
   "cell_type": "markdown",
   "metadata": {},
   "source": [
    "Also if keyword marker is followed by a string literal, keyword will be empty, thus not a correctly wormed keyword value pair."
   ]
  },
  {
   "cell_type": "code",
   "execution_count": 14,
   "metadata": {
    "collapsed": false
   },
   "outputs": [
    {
     "data": {
      "text/plain": [
       "'<tag =\"attr\"/>'"
      ]
     },
     "execution_count": 14,
     "metadata": {},
     "output_type": "execute_result"
    }
   ],
   "source": [
    "(ml (tag :\"attr\"))"
   ]
  },
  {
   "cell_type": "markdown",
   "metadata": {},
   "source": [
    "So only working version of keyword notation is `:{symbol}` or unquoted `~(keyword {expression})`. Also keywords without value are interpreted as a keyword having the same value as the keyword name (called boolean attributes)."
   ]
  },
  {
   "cell_type": "code",
   "execution_count": 15,
   "metadata": {
    "collapsed": false
   },
   "outputs": [
    {
     "data": {
      "text/plain": [
       "['<tag disabled=\"disabled\"/>', '<tag disabled=\"disabled\"/>']"
      ]
     },
     "execution_count": 15,
     "metadata": {},
     "output_type": "execute_result"
    }
   ],
   "source": [
    "[(ml (tag :disabled)) (ml (tag ~(keyword \"disabled\")))]"
   ]
  },
  {
   "cell_type": "markdown",
   "metadata": {},
   "source": [
    "If you wish to define multiple boolean attributes together with content, you can collect them at the end of the expression. Note that in XML boolean attributes cannot be minimized similar to HTML. Attributes always needs to have a value pair."
   ]
  },
  {
   "cell_type": "code",
   "execution_count": 16,
   "metadata": {
    "collapsed": false
   },
   "outputs": [
    {
     "data": {
      "text/plain": [
       "'<tag disabled=\"disabled\" enabled=\"enabled\">Content</tag>'"
      ]
     },
     "execution_count": 16,
     "metadata": {},
     "output_type": "execute_result"
    }
   ],
   "source": [
    "(ml (tag \"Content\" :disabled :enabled))"
   ]
  },
  {
   "cell_type": "markdown",
   "metadata": {},
   "source": [
    "One more thing with keywords is that if the same keyword value pair is given multiple times, it will show up in the mark up in the same order, as multiple. Depending on the markup parser, the last attribute might be valuated OR parser might give an error, because by XML Standard attibute names should be unique and not repeated under the same element."
   ]
  },
  {
   "cell_type": "code",
   "execution_count": 17,
   "metadata": {
    "collapsed": false
   },
   "outputs": [
    {
     "data": {
      "text/plain": [
       "'<tag attr=\"attr\" attr=\"attr2\"/>'"
      ]
     },
     "execution_count": 17,
     "metadata": {},
     "output_type": "execute_result"
    }
   ],
   "source": [
    "(ml (tag :attr :attr \"attr2\"))"
   ]
  },
  {
   "cell_type": "markdown",
   "metadata": {},
   "source": [
    "## Test main features\n",
    "\n",
    "Assert tests for all main features presented above. There should be no output after running these. If there is, then there is a problem!"
   ]
  },
  {
   "cell_type": "code",
   "execution_count": 18,
   "metadata": {
    "collapsed": false
   },
   "outputs": [],
   "source": [
    ";;;;;;;;;\n",
    "; basic ;\n",
    ";;;;;;;;;\n",
    "; empty things\n",
    "(assert (= (ml) \"\"))\n",
    "(assert (= (ml\"\") \"\"))\n",
    "(assert (= (ml \"\") \"\"))\n",
    "(assert (= (ml (\"\")) \"</>\"))\n",
    "; tag names\n",
    "(assert (= (ml (tag)) \"<tag/>\"))\n",
    "(assert (= (ml (TAG)) \"<TAG/>\"))\n",
    "(assert (= (ml (~(.upper \"tag\"))) \"<TAG/>\"))\n",
    "(assert (= (ml (tag \"\")) \"<tag></tag>\"))\n",
    "; content cases\n",
    "(assert (= (ml (tag \"content\")) \"<tag>content</tag>\"))\n",
    "(assert (= (ml (tag \"CONTENT\")) \"<tag>CONTENT</tag>\"))\n",
    "(assert (= (ml (tag ~(.upper \"content\"))) \"<tag>CONTENT</tag>\"))\n",
    "; attribute names and values\n",
    "(assert (= (ml (tag :attr \"val\")) \"<tag attr=\\\"val\\\"/>\"))\n",
    "(assert (= (ml (tag ~(keyword \"attr\") \"val\")) \"<tag attr=\\\"val\\\"/>\"))\n",
    "(assert (= (ml (tag :attr \"val\" \"\")) \"<tag attr=\\\"val\\\"></tag>\"))\n",
    "(assert (= (ml (tag :attr \"val\" \"content\")) \"<tag attr=\\\"val\\\">content</tag>\"))\n",
    "(assert (= (ml (tag :ATTR \"val\")) \"<tag ATTR=\\\"val\\\"/>\"))\n",
    "(assert (= (ml (tag ~(keyword (.upper \"attr\")) \"val\")) \"<tag ATTR=\\\"val\\\"/>\"))\n",
    "(assert (= (ml (tag :attr \"VAL\")) \"<tag attr=\\\"VAL\\\"/>\"))\n",
    "(assert (= (ml (tag :attr ~(.upper \"val\"))) \"<tag attr=\\\"VAL\\\"/>\"))\n",
    "; nested tags\n",
    "(assert (= (ml (tag (sub))) \"<tag><sub/></tag>\"))\n",
    "; unquote splice\n",
    "(assert (= (ml (tag ~@(list-comp `(sub ~(str item)) [item [1 2 3]])))\n",
    "           \"<tag><sub>1</sub><sub>2</sub><sub>3</sub></tag>\"))\n",
    "; variables\n",
    "(defvar x \"variable\")\n",
    "(assert (= (ml (tag ~x)) \"<tag>variable</tag>\"))\n",
    "; functions\n",
    "(deffun f (fn [x] x))\n",
    "(assert (= (ml (tag ~(f \"function\"))) \"<tag>function</tag>\"))\n",
    "; templates\n",
    "(with [f (open \"test.hy\" \"w\")] (f.write \"(tag)\"))\n",
    "(assert (= (ml ~@(include \"test.hy\")) \"<tag/>\"))\n",
    ";;;;;;;;;;;\n",
    "; special ;\n",
    ";;;;;;;;;;;\n",
    "; tag names\n",
    "(assert (= (ml (J)) \"<1j/>\"))\n",
    "(assert (= (ml (~\"J\")) \"<J/>\"))\n",
    "(assert (= [(ml ('tag)) (ml (`tag)) (ml (tag)) (ml (\"tag\"))] (* [\"<tag/>\"] 4)))\n",
    "; attribute values\n",
    "(assert (= [(ml (tag :attr 'val)) (ml (tag :attr `val)) (ml (tag :attr val)) (ml (tag :attr \"val\"))]\n",
    "           (* [\"<tag attr=\\\"val\\\"/>\"] 4)))\n",
    "; content\n",
    "(assert (= [(ml (tag 'val)) (ml (tag `val)) (ml (tag val)) (ml (tag \"val\"))]\n",
    "           (* [\"<tag>val</tag>\"] 4)))\n",
    "; keyword processing\n",
    "(assert (= [(ml (tag ':attr)) (ml (tag `:attr))] [\"<tag>attr</tag>\" \"<tag>attr</tag>\"]))\n",
    "(assert (= (ml (tag :\"attr\")) \"<tag =\\\"attr\\\"/>\"))\n",
    "(assert (= [(ml (tag :attr)) (ml (tag ~(keyword \"attr\")))] [\"<tag attr=\\\"attr\\\"/>\" \"<tag attr=\\\"attr\\\"/>\"]))\n",
    "(assert (= (ml (tag :attr1 :attr2)) \"<tag attr1=\\\"attr1\\\" attr2=\\\"attr2\\\"/>\"))\n",
    "(assert (= (ml (tag Content :attr1 :attr2)) \"<tag attr1=\\\"attr1\\\" attr2=\\\"attr2\\\">Content</tag>\"))\n",
    "(assert (= (ml (tag :attr1 :attr2 Content)) \"<tag attr1=\\\"attr1\\\" attr2=\\\"Content\\\"/>\"))\n",
    "; no space between attribute name and value as a string literal\n",
    "(assert (= (ml (tag :attr\"val\")) \"<tag attr=\\\"val\\\"/>\"))\n",
    "; no space between tag, keywords, keyword value, and content string literals\n",
    "(assert (= (ml (tag\"content\":attr\"val\")) \"<tag attr=\\\"val\\\">content</tag>\"))\n",
    ";;;;;;;;;\n",
    "; weird ;\n",
    ";;;;;;;;;\n",
    "; quote should not be unquoted or surpressed\n",
    "(assert (= (ml (quote :quote \"quote\" \"quote\")) \"<quote quote=\\\"quote\\\">quote</quote>\"))\n",
    "; tag name, keyword name, value and content can be same\n",
    "(assert (= (ml (tag :tag \"tag\" \"tag\")) \"<tag tag=\\\"tag\\\">tag</tag>\"))\n",
    "; multiple same attribute names stays in the markup in the reserved order\n",
    "(assert (= (ml (tag :attr \"attr1\" :attr \"attr2\")) \"<tag attr=\\\"attr1\\\" attr=\\\"attr2\\\"/>\"))"
   ]
  },
  {
   "cell_type": "markdown",
   "metadata": {},
   "source": [
    "## The [MIT](http://choosealicense.com/licenses/mit/) License\n",
    "\n",
    "Copyright (c) 2017 Marko Manninen"
   ]
  }
 ],
 "metadata": {
  "anaconda-cloud": {},
  "kernelspec": {
   "display_name": "Calysto Hy",
   "language": "hy",
   "name": "calysto_hy"
  },
  "language_info": {
   "codemirror_mode": {
    "name": "scheme"
   },
   "mimetype": "text/x-hylang",
   "name": "hy",
   "pygments_lexer": "lisp"
  }
 },
 "nbformat": 4,
 "nbformat_minor": 1
}
