{
 "cells": [
  {
   "cell_type": "markdown",
   "metadata": {},
   "source": [
    "# HyML `MiNiMaL`\n",
    "\n",
    "## Minimal Markup Language generator in Hy\n",
    "\n",
    "[HyML](https://github.com/markomanninen/hyml) (acronym for Hy Markup Language) is a set of macros to generate XML, XHTML, and HTML code in Hy. HyML `MiNiMaL` is a minimal codebase to generate XML (Extensible Markup Language) with next features:\n",
    "\n",
    "1. closely resembling syntax with XML\n",
    "2. tag names and attribute names are forced to be in lowercase format\n",
    "3. ability to evaluate Hy program code on macro expansion\n",
    "4. processing lists and templates\n",
    "5. custom variables and functions\n",
    "\n",
    "You can use HyML `MiNiMaL` for:\n",
    "\n",
    "- static xml / xhtml / html content and file generation\n",
    "- generate html code for Jupyter Notebook for example\n",
    "- attach it to the server for dynamic html output generation\n",
    "- practice and study macro (Lisp) programming\n",
    "- challenge your imagination"
   ]
  },
  {
   "cell_type": "markdown",
   "metadata": {},
   "source": [
    "## Install, import, and run\n",
    "\n",
    "Project is hosted at: https://github.com/markomanninen/hyml\n",
    "\n",
    "For easy install, use:\n",
    "\n",
    "```Shell\n",
    "$ pip install hyml\n",
    "```\n",
    "\n",
    "Then import `MiNiMaL` macros:\n",
    "\n",
    "```Clojure\n",
    "(require (hyml.minimal (*)))\n",
    "```\n",
    "\n",
    "And run example:\n",
    "\n",
    "```Clojure\n",
    "(mnml (tag :attr \"value\" (sub \"Content\")))\n",
    "```\n",
    "\n",
    "That should output:\n",
    "\n",
    "```XML\n",
    "<tag attr=\"value\"><sub>Content</sub></tag>\n",
    "```"
   ]
  },
  {
   "cell_type": "markdown",
   "metadata": {},
   "source": [
    "## Hy code (all)\n",
    "\n",
    "Because codebase for HyML `MiNiMaL` implementation is roughly 50 lines only, it will be provided here for introspection:"
   ]
  },
  {
   "cell_type": "code",
   "execution_count": 1,
   "metadata": {
    "collapsed": false
   },
   "outputs": [],
   "source": [
    "; eval and compile variables, constants and functions for mnml, defvar, deffun, and include macros\n",
    "(eval-and-compile\n",
    "  ; global registry for variables and functions\n",
    "  (setv variables-and-functions {})\n",
    "  ; internal constants\n",
    "  (def **keyword** \"keyword\") (def **unquote** \"unquote\")\n",
    "  (def **splice** \"unquote_splice\") (def **unquote-splice** (, **unquote** **splice**))\n",
    "  ; dettach keywords and content from code expression\n",
    "  (defn get-content-attributes [code]\n",
    "    (setv content [] attributes [] kwd None)\n",
    "    (for [item code]\n",
    "         (do \n",
    "           (if (and (= (first item) **unquote**)\n",
    "                    (= (first (second item)) **keyword**))\n",
    "               (setv item (eval (second item))))\n",
    "           (if-not (keyword? item)\n",
    "             (if (none? kwd)\n",
    "                 (.append content (parse-mnml item))\n",
    "                 (.append attributes (, (.lower kwd) (parse-mnml item)))))\n",
    "           (if (keyword? item) (setv kwd item) (setv kwd None))))\n",
    "    (, content attributes))\n",
    "  ; recursively parse expression\n",
    "  (defn parse-mnml [code] \n",
    "    (if (coll? code)\n",
    "        (do\n",
    "          (setv tag (.lower (catch-tag (first code))))\n",
    "          (if (in tag **unquote-splice**)\n",
    "              (.join \"\" (map parse-mnml (eval (second code) variables-and-functions)))\n",
    "              (do\n",
    "                (setv (, content attributes) (get-content-attributes (drop 1 code)))\n",
    "                (+ (tag-start tag attributes (empty? content))\n",
    "                   (if (empty? content) \"\"\n",
    "                       (+ (.join \"\" (map str content)) (+ \"</\" tag \">\")))))))\n",
    "        (if (none? code) \"\" (str code))))\n",
    "  ; dettach tag from expression\n",
    "  (defn catch-tag [code]\n",
    "    (if (= (first code) **unquote**)\n",
    "        (eval (second code))\n",
    "        (try (name (eval code))\n",
    "             (except (e Exception) (str code)))))\n",
    "  ; concat attributes\n",
    "  (defn tag-attributes [attr]\n",
    "    (if (empty? attr) \"\"\n",
    "        (+ \" \" (.join \" \" (list-comp\n",
    "          (% \"%s=\\\"%s\\\"\" (, (name kwd) (name value))) [[kwd value] attr])))))\n",
    "  ; create start tag\n",
    "  (defn tag-start [tag-name attr short]\n",
    "    (+ \"<\" tag-name (tag-attributes attr) (if short \"/>\" \">\"))))\n",
    "; global variable handler\n",
    "(defmacro defvar [&rest args]\n",
    "  (setv l (len args) i 0)\n",
    "  (while (< i l)\n",
    "    (do\n",
    "      (assoc variables-and-functions (get args i) (get args (inc i)))\n",
    "      (setv i (+ 2 i)))))\n",
    "; global function handler\n",
    "(defmacro deffun [name func]\n",
    "  (assoc variables-and-functions name (eval func)))\n",
    "; include functionality for template engine\n",
    "(defmacro include [template]\n",
    "  `(do\n",
    "    (import [hy.importer [tokenize]])\n",
    "    (with [f (open ~template)]\n",
    "      (tokenize (+ \"~@`(\" (f.read) \")\")))))\n",
    "; main MiNiMaL macro to be used. passes code to parse-mnml\n",
    "(defmacro mnml [&rest code]\n",
    "  (.join \"\" (map parse-mnml code)))"
   ]
  },
  {
   "cell_type": "markdown",
   "metadata": {},
   "source": [
    "### Simple example"
   ]
  },
  {
   "cell_type": "code",
   "execution_count": 2,
   "metadata": {
    "collapsed": false
   },
   "outputs": [
    {
     "data": {
      "text/plain": [
       "'<tag attr=\"value\"><sub>Content</sub></tag>'"
      ]
     },
     "execution_count": 2,
     "metadata": {},
     "output_type": "execute_result"
    }
   ],
   "source": [
    "(mnml (tag :attr \"value\" (sub \"Content\")))"
   ]
  },
  {
   "cell_type": "markdown",
   "metadata": {},
   "source": [
    "## Features\n",
    "\n",
    "### Process components with unquote syntax (~)\n",
    "\n",
    "#### Generate tag name"
   ]
  },
  {
   "cell_type": "code",
   "execution_count": 3,
   "metadata": {
    "collapsed": false
   },
   "outputs": [
    {
     "data": {
      "text/plain": [
       "'<tag/>'"
      ]
     },
     "execution_count": 3,
     "metadata": {},
     "output_type": "execute_result"
    }
   ],
   "source": [
    "(mnml (~(+ \"t\" \"a\" \"g\")))"
   ]
  },
  {
   "cell_type": "markdown",
   "metadata": {},
   "source": [
    "#### Generate attribute name and value"
   ]
  },
  {
   "cell_type": "code",
   "execution_count": 4,
   "metadata": {
    "collapsed": false
   },
   "outputs": [
    {
     "data": {
      "text/plain": [
       "'<tag attr=\"val\"/>'"
      ]
     },
     "execution_count": 4,
     "metadata": {},
     "output_type": "execute_result"
    }
   ],
   "source": [
    "(mnml (tag ~(keyword (.join \"\" ['a 't 't 'r])) ~(+ \"v\" \"a\" \"l\")))"
   ]
  },
  {
   "cell_type": "markdown",
   "metadata": {},
   "source": [
    "#### Generate content"
   ]
  },
  {
   "cell_type": "code",
   "execution_count": 5,
   "metadata": {
    "collapsed": false
   },
   "outputs": [
    {
     "data": {
      "text/plain": [
       "'<tag>CONTENT</tag>'"
      ]
     },
     "execution_count": 5,
     "metadata": {},
     "output_type": "execute_result"
    }
   ],
   "source": [
    "(mnml (tag ~(.upper \"content\")))"
   ]
  },
  {
   "cell_type": "markdown",
   "metadata": {},
   "source": [
    "### Process lists with unquote splice syntax (~@)\n",
    "\n",
    "#### Generate list of items"
   ]
  },
  {
   "cell_type": "code",
   "execution_count": 6,
   "metadata": {
    "collapsed": false
   },
   "outputs": [
    {
     "data": {
      "text/plain": [
       "'<tag><sub>1</sub><sub>2</sub><sub>3</sub></tag>'"
      ]
     },
     "execution_count": 6,
     "metadata": {},
     "output_type": "execute_result"
    }
   ],
   "source": [
    "(mnml (tag ~@(list-comp `(sub ~(str item)) [item [1 2 3]])))"
   ]
  },
  {
   "cell_type": "markdown",
   "metadata": {},
   "source": [
    "### Custom variables and functions"
   ]
  },
  {
   "cell_type": "code",
   "execution_count": 7,
   "metadata": {
    "collapsed": false
   },
   "outputs": [
    {
     "data": {
      "text/plain": [
       "'<tag>McDonald, Dennis</tag>'"
      ]
     },
     "execution_count": 7,
     "metadata": {},
     "output_type": "execute_result"
    }
   ],
   "source": [
    "; define variables with defvar macro\n",
    "(defvar firstname \"Dennis\"\n",
    "        lastname \"McDonald\")\n",
    "; define functions with deffun macro\n",
    "(deffun wholename (fn [x y] (+ y \", \" x)))\n",
    "; use variables and functions with unquote / unquote splice\n",
    "(mnml (tag ~(wholename firstname lastname)))"
   ]
  },
  {
   "cell_type": "markdown",
   "metadata": {},
   "source": [
    "### Templates"
   ]
  },
  {
   "cell_type": "code",
   "execution_count": 8,
   "metadata": {
    "collapsed": false
   },
   "outputs": [
    {
     "name": "stdout",
     "output_type": "stream",
     "text": [
      "(note :src \"https://www.w3schools.com/xml/note.xml\"\n",
      "  (to ~to)\n",
      "  (from ~from)\n",
      "  (heading ~heading)\n",
      "  (body ~body))\n"
     ]
    }
   ],
   "source": [
    "; show template file content\n",
    "(with [f (open \"note.hy\")] (print (f.read)))"
   ]
  },
  {
   "cell_type": "code",
   "execution_count": 9,
   "metadata": {
    "collapsed": false
   },
   "outputs": [
    {
     "name": "stdout",
     "output_type": "stream",
     "text": [
      "<note src=\"https://www.w3schools.com/xml/note.xml\"><to>Tove</to><from>Jani</from><heading>Reminder</heading><body>Don't forget me this weekend!</body></note>\n"
     ]
    }
   ],
   "source": [
    "; define variables for template\n",
    "(defvar to \"Tove\"\n",
    "        from \"Jani\"\n",
    "        heading \"Reminder\"\n",
    "        body \"Don't forget me this weekend!\")\n",
    "; include and render template\n",
    "(print\n",
    "  (mnml ~@(include \"note.hy\")))"
   ]
  },
  {
   "cell_type": "markdown",
   "metadata": {},
   "source": [
    "## Test main features\n",
    "\n",
    "Assert tests for all main features:"
   ]
  },
  {
   "cell_type": "code",
   "execution_count": 10,
   "metadata": {
    "collapsed": false
   },
   "outputs": [],
   "source": [
    "(assert (= (mnml (tag)) \"<tag/>\"))\n",
    "(assert (= (mnml (TAG)) \"<tag/>\"))\n",
    "(assert (= (mnml (~(.upper \"tag\"))) \"<tag/>\"))\n",
    "(assert (= (mnml (tag \"\")) \"<tag></tag>\"))\n",
    "(assert (= (mnml (tag \"content\")) \"<tag>content</tag>\"))\n",
    "(assert (= (mnml (tag \"CONTENT\")) \"<tag>CONTENT</tag>\"))\n",
    "(assert (= (mnml (tag ~(.upper \"content\"))) \"<tag>CONTENT</tag>\"))\n",
    "(assert (= (mnml (tag :attr \"val\")) \"<tag attr=\\\"val\\\"/>\"))\n",
    "(assert (= (mnml (tag ~(keyword \"attr\") \"val\")) \"<tag attr=\\\"val\\\"/>\"))\n",
    "(assert (= (mnml (tag :attr \"val\" \"\")) \"<tag attr=\\\"val\\\"></tag>\"))\n",
    "(assert (= (mnml (tag :attr \"val\" \"content\")) \"<tag attr=\\\"val\\\">content</tag>\"))\n",
    "(assert (= (mnml (tag :ATTR \"val\")) \"<tag attr=\\\"val\\\"/>\"))\n",
    "(assert (= (mnml (tag ~(keyword (.upper \"attr\")) \"val\")) \"<tag attr=\\\"val\\\"/>\"))\n",
    "(assert (= (mnml (tag :attr \"VAL\")) \"<tag attr=\\\"VAL\\\"/>\"))\n",
    "(assert (= (mnml (tag :attr ~(.upper \"val\"))) \"<tag attr=\\\"VAL\\\"/>\"))\n",
    "(assert (= (mnml (tag (sub))) \"<tag><sub/></tag>\"))\n",
    "(assert (= (mnml (tag ~@(list-comp `(sub ~(str item)) [item [1 2 3]])))\n",
    "           \"<tag><sub>1</sub><sub>2</sub><sub>3</sub></tag>\"))\n",
    "\n",
    "(defvar x \"variable\")\n",
    "(assert (= (mnml (tag ~x)) \"<tag>variable</tag>\"))\n",
    "\n",
    "(deffun f (fn [x] x))\n",
    "(assert (= (mnml (tag ~(f \"function\"))) \"<tag>function</tag>\"))\n",
    "\n",
    "(with [f (open \"test.hy\" \"w\")] (f.write \"(tag)\"))\n",
    "(assert (= (mnml ~@(include \"test.hy\")) \"<tag/>\"))"
   ]
  },
  {
   "cell_type": "markdown",
   "metadata": {},
   "source": [
    "## The [MIT](http://choosealicense.com/licenses/mit/) License\n",
    "\n",
    "Copyright (c) 2017 Marko Manninen"
   ]
  }
 ],
 "metadata": {
  "anaconda-cloud": {},
  "kernelspec": {
   "display_name": "Calysto Hy",
   "language": "hy",
   "name": "calysto_hy"
  },
  "language_info": {
   "codemirror_mode": {
    "name": "scheme"
   },
   "mimetype": "text/x-hylang",
   "name": "hy",
   "pygments_lexer": "lisp"
  }
 },
 "nbformat": 4,
 "nbformat_minor": 1
}
